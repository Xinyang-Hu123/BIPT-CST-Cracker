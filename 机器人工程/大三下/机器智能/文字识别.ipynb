{
 "cells": [
  {
   "cell_type": "code",
   "execution_count": 18,
   "id": "5e1955f4-0803-46c7-9aab-0af2fa99a90f",
   "metadata": {},
   "outputs": [],
   "source": [
    "import tensorflow as tf\n",
    "from tensorflow.keras import datasets, layers, models\n",
    "import matplotlib.pyplot as plt\n",
    "from tensorflow.keras.models import Model\n",
    "from tensorflow.keras.layers import Input, Conv2D, MaxPooling2D, Dense  # 确保导入所有所需的层"
   ]
  },
  {
   "cell_type": "code",
   "execution_count": 19,
   "id": "dd005742-6f94-460a-8001-176f2c1898f7",
   "metadata": {},
   "outputs": [],
   "source": [
    "(train_images, train_labels), (test_images, test_labels) = datasets.mnist.load_data()\n",
    "\n",
    "# 将图像归一化到 [0, 1] 区间内\n",
    "train_images, test_images = train_images / 255.0, test_images / 255.0\n",
    "\n",
    "# 将图像数据从 (28, 28) 转换为 (28, 28, 1)，以匹配CNN的输入要求\n",
    "train_images = train_images[..., tf.newaxis].astype(\"float32\")\n",
    "test_images = test_images[..., tf.newaxis].astype(\"float32\")"
   ]
  },
  {
   "cell_type": "code",
   "execution_count": 20,
   "id": "958433b2-273b-41af-a007-c15c3fc2fdd9",
   "metadata": {},
   "outputs": [],
   "source": [
    "# 定义输入形状\n",
    "input_shape = (28, 28, 1)  # 假设为28x28像素的单通道图像\n",
    "\n",
    "# 使用Input对象明确输入层\n",
    "inputs = Input(shape=input_shape)\n",
    "\n",
    "# 接着定义模型的其余部分，类似于之前的方式\n",
    "x = layers.Conv2D(32, (3, 3), activation='relu')(inputs)\n",
    "x = layers.MaxPooling2D((2, 2))(x)\n",
    "# ... 其他层定义 ...\n",
    "outputs = layers.Dense(10, activation='softmax')(x)  # 输出层使用softmax激活，适用于多分类问题\n",
    "\n",
    "# 使用Model实例化模型\n",
    "model = models.Model(inputs=inputs, outputs=outputs)\n",
    "\n",
    "# 编译模型\n",
    "model.compile(optimizer='adam',\n",
    "              loss=tf.keras.losses.SparseCategoricalCrossentropy(from_logits=False),  # 如果使用softmax激活，设置from_logits为False\n",
    "              metrics=['accuracy'])\n",
    "\n",
    "# 然后进行训练、验证等操作..."
   ]
  },
  {
   "cell_type": "code",
   "execution_count": 21,
   "id": "c8652a91-eb4e-4833-a5b5-20527eebf4a2",
   "metadata": {},
   "outputs": [],
   "source": [
    "model = models.Sequential([\n",
    "    layers.Conv2D(32, (3, 3), activation='relu', input_shape=(28, 28, 1)),\n",
    "    layers.MaxPooling2D((2, 2)),\n",
    "    layers.Conv2D(64, (3, 3), activation='relu'),\n",
    "    layers.MaxPooling2D((2, 2)),\n",
    "    layers.Conv2D(64, (3, 3), activation='relu'),\n",
    "    layers.Flatten(),\n",
    "    layers.Dense(64, activation='relu'),\n",
    "    layers.Dense(10)  # 输出层有10个神经元，对应0-9十个数字\n",
    "])"
   ]
  },
  {
   "cell_type": "code",
   "execution_count": 22,
   "id": "9117eebb-1dd8-4149-9a7c-3a04402439bc",
   "metadata": {},
   "outputs": [
    {
     "name": "stdout",
     "output_type": "stream",
     "text": [
      "Epoch 1/10\n",
      "\u001b[1m1875/1875\u001b[0m \u001b[32m━━━━━━━━━━━━━━━━━━━━\u001b[0m\u001b[37m\u001b[0m \u001b[1m14s\u001b[0m 7ms/step - accuracy: 0.8917 - loss: 0.3357 - val_accuracy: 0.9858 - val_loss: 0.0451\n",
      "Epoch 2/10\n",
      "\u001b[1m1875/1875\u001b[0m \u001b[32m━━━━━━━━━━━━━━━━━━━━\u001b[0m\u001b[37m\u001b[0m \u001b[1m13s\u001b[0m 7ms/step - accuracy: 0.9842 - loss: 0.0497 - val_accuracy: 0.9878 - val_loss: 0.0393\n",
      "Epoch 3/10\n",
      "\u001b[1m1875/1875\u001b[0m \u001b[32m━━━━━━━━━━━━━━━━━━━━\u001b[0m\u001b[37m\u001b[0m \u001b[1m13s\u001b[0m 7ms/step - accuracy: 0.9892 - loss: 0.0336 - val_accuracy: 0.9901 - val_loss: 0.0304\n",
      "Epoch 4/10\n",
      "\u001b[1m1875/1875\u001b[0m \u001b[32m━━━━━━━━━━━━━━━━━━━━\u001b[0m\u001b[37m\u001b[0m \u001b[1m13s\u001b[0m 7ms/step - accuracy: 0.9920 - loss: 0.0253 - val_accuracy: 0.9921 - val_loss: 0.0269\n",
      "Epoch 5/10\n",
      "\u001b[1m1875/1875\u001b[0m \u001b[32m━━━━━━━━━━━━━━━━━━━━\u001b[0m\u001b[37m\u001b[0m \u001b[1m13s\u001b[0m 7ms/step - accuracy: 0.9941 - loss: 0.0175 - val_accuracy: 0.9927 - val_loss: 0.0258\n",
      "Epoch 6/10\n",
      "\u001b[1m1875/1875\u001b[0m \u001b[32m━━━━━━━━━━━━━━━━━━━━\u001b[0m\u001b[37m\u001b[0m \u001b[1m13s\u001b[0m 7ms/step - accuracy: 0.9960 - loss: 0.0124 - val_accuracy: 0.9916 - val_loss: 0.0270\n",
      "Epoch 7/10\n",
      "\u001b[1m1875/1875\u001b[0m \u001b[32m━━━━━━━━━━━━━━━━━━━━\u001b[0m\u001b[37m\u001b[0m \u001b[1m12s\u001b[0m 7ms/step - accuracy: 0.9967 - loss: 0.0103 - val_accuracy: 0.9920 - val_loss: 0.0291\n",
      "Epoch 8/10\n",
      "\u001b[1m1875/1875\u001b[0m \u001b[32m━━━━━━━━━━━━━━━━━━━━\u001b[0m\u001b[37m\u001b[0m \u001b[1m13s\u001b[0m 7ms/step - accuracy: 0.9974 - loss: 0.0082 - val_accuracy: 0.9918 - val_loss: 0.0269\n",
      "Epoch 9/10\n",
      "\u001b[1m1875/1875\u001b[0m \u001b[32m━━━━━━━━━━━━━━━━━━━━\u001b[0m\u001b[37m\u001b[0m \u001b[1m13s\u001b[0m 7ms/step - accuracy: 0.9973 - loss: 0.0084 - val_accuracy: 0.9908 - val_loss: 0.0395\n",
      "Epoch 10/10\n",
      "\u001b[1m1875/1875\u001b[0m \u001b[32m━━━━━━━━━━━━━━━━━━━━\u001b[0m\u001b[37m\u001b[0m \u001b[1m12s\u001b[0m 7ms/step - accuracy: 0.9973 - loss: 0.0077 - val_accuracy: 0.9910 - val_loss: 0.0314\n"
     ]
    }
   ],
   "source": [
    "model.compile(optimizer='adam',\n",
    "              loss=tf.keras.losses.SparseCategoricalCrossentropy(from_logits=True),\n",
    "              metrics=['accuracy'])\n",
    "\n",
    "history = model.fit(train_images, train_labels, epochs=10,\n",
    "                    validation_data=(test_images, test_labels))"
   ]
  },
  {
   "cell_type": "code",
   "execution_count": 23,
   "id": "8215b69c-3336-466c-9baf-432d263e9a47",
   "metadata": {},
   "outputs": [
    {
     "name": "stdout",
     "output_type": "stream",
     "text": [
      "313/313 - 1s - 3ms/step - accuracy: 0.9910 - loss: 0.0314\n",
      "\n",
      "Test accuracy: 0.9909999966621399\n"
     ]
    }
   ],
   "source": [
    "test_loss, test_acc = model.evaluate(test_images,  test_labels, verbose=2)\n",
    "print('\\nTest accuracy:', test_acc)"
   ]
  },
  {
   "cell_type": "code",
   "execution_count": 24,
   "id": "2a63ce16-7c1f-42ef-a13f-594973e6d576",
   "metadata": {},
   "outputs": [
    {
     "data": {
      "image/png": "[encoded data removed]",
      "text/plain": [
       "<Figure size 640x480 with 1 Axes>"
      ]
     },
     "metadata": {},
     "output_type": "display_data"
    }
   ],
   "source": [
    "plt.plot(history.history['accuracy'], label='accuracy')\n",
    "plt.plot(history.history['val_accuracy'], label = 'val_accuracy')\n",
    "plt.xlabel('Epoch')\n",
    "plt.ylabel('Accuracy')\n",
    "plt.ylim([0.5, 1])\n",
    "plt.legend(loc='lower right')\n",
    "\n",
    "plt.show()"
   ]
  },
  {
   "cell_type": "code",
   "execution_count": null,
   "id": "df4a1cf1-cfdc-4575-961a-757e68e0f951",
   "metadata": {},
   "outputs": [],
   "source": []
  }
 ],
 "metadata": {
  "kernelspec": {
   "display_name": "Python 3 (ipykernel)",
   "language": "python",
   "name": "python3"
  },
  "language_info": {
   "codemirror_mode": {
    "name": "ipython",
    "version": 3
   },
   "file_extension": ".py",
   "mimetype": "text/x-python",
   "name": "python",
   "nbconvert_exporter": "python",
   "pygments_lexer": "ipython3",
   "version": "3.12.2"
  }
 },
 "nbformat": 4,
 "nbformat_minor": 5
}
